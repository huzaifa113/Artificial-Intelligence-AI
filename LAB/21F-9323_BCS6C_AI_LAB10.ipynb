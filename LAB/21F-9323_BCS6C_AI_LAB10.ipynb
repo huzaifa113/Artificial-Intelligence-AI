{
  "nbformat": 4,
  "nbformat_minor": 0,
  "metadata": {
    "colab": {
      "provenance": []
    },
    "kernelspec": {
      "name": "python3",
      "display_name": "Python 3"
    },
    "language_info": {
      "name": "python"
    }
  },
  "cells": [
    {
      "cell_type": "markdown",
      "source": [
        "**Question 1**"
      ],
      "metadata": {
        "id": "-xOonP4YczxR"
      }
    },
    {
      "cell_type": "code",
      "execution_count": null,
      "metadata": {
        "id": "SrzZh9yoVy8D"
      },
      "outputs": [],
      "source": [
        "from utils import *\n",
        "from logic import *"
      ]
    },
    {
      "cell_type": "code",
      "source": [
        "!pip install ipythonblocks"
      ],
      "metadata": {
        "colab": {
          "base_uri": "https://localhost:8080/"
        },
        "id": "k40ddGqcWkUX",
        "outputId": "3564ad99-6bf5-4149-956c-cef8f4b6b508"
      },
      "execution_count": null,
      "outputs": [
        {
          "output_type": "stream",
          "name": "stdout",
          "text": [
            "Collecting ipythonblocks\n",
            "  Downloading ipythonblocks-1.9.1-py2.py3-none-any.whl (14 kB)\n",
            "Requirement already satisfied: ipython>=4.0 in /usr/local/lib/python3.10/dist-packages (from ipythonblocks) (7.34.0)\n",
            "Requirement already satisfied: notebook>=4.0 in /usr/local/lib/python3.10/dist-packages (from ipythonblocks) (6.5.5)\n",
            "Requirement already satisfied: requests>=1.0 in /usr/local/lib/python3.10/dist-packages (from ipythonblocks) (2.31.0)\n",
            "Requirement already satisfied: setuptools>=18.5 in /usr/local/lib/python3.10/dist-packages (from ipython>=4.0->ipythonblocks) (67.7.2)\n",
            "Collecting jedi>=0.16 (from ipython>=4.0->ipythonblocks)\n",
            "  Downloading jedi-0.19.1-py2.py3-none-any.whl (1.6 MB)\n",
            "\u001b[2K     \u001b[90m━━━━━━━━━━━━━━━━━━━━━━━━━━━━━━━━━━━━━━━━\u001b[0m \u001b[32m1.6/1.6 MB\u001b[0m \u001b[31m24.8 MB/s\u001b[0m eta \u001b[36m0:00:00\u001b[0m\n",
            "\u001b[?25hRequirement already satisfied: decorator in /usr/local/lib/python3.10/dist-packages (from ipython>=4.0->ipythonblocks) (4.4.2)\n",
            "Requirement already satisfied: pickleshare in /usr/local/lib/python3.10/dist-packages (from ipython>=4.0->ipythonblocks) (0.7.5)\n",
            "Requirement already satisfied: traitlets>=4.2 in /usr/local/lib/python3.10/dist-packages (from ipython>=4.0->ipythonblocks) (5.7.1)\n",
            "Requirement already satisfied: prompt-toolkit!=3.0.0,!=3.0.1,<3.1.0,>=2.0.0 in /usr/local/lib/python3.10/dist-packages (from ipython>=4.0->ipythonblocks) (3.0.43)\n",
            "Requirement already satisfied: pygments in /usr/local/lib/python3.10/dist-packages (from ipython>=4.0->ipythonblocks) (2.16.1)\n",
            "Requirement already satisfied: backcall in /usr/local/lib/python3.10/dist-packages (from ipython>=4.0->ipythonblocks) (0.2.0)\n",
            "Requirement already satisfied: matplotlib-inline in /usr/local/lib/python3.10/dist-packages (from ipython>=4.0->ipythonblocks) (0.1.6)\n",
            "Requirement already satisfied: pexpect>4.3 in /usr/local/lib/python3.10/dist-packages (from ipython>=4.0->ipythonblocks) (4.9.0)\n",
            "Requirement already satisfied: jinja2 in /usr/local/lib/python3.10/dist-packages (from notebook>=4.0->ipythonblocks) (3.1.3)\n",
            "Requirement already satisfied: tornado>=6.1 in /usr/local/lib/python3.10/dist-packages (from notebook>=4.0->ipythonblocks) (6.3.3)\n",
            "Requirement already satisfied: pyzmq<25,>=17 in /usr/local/lib/python3.10/dist-packages (from notebook>=4.0->ipythonblocks) (23.2.1)\n",
            "Requirement already satisfied: argon2-cffi in /usr/local/lib/python3.10/dist-packages (from notebook>=4.0->ipythonblocks) (23.1.0)\n",
            "Requirement already satisfied: jupyter-core>=4.6.1 in /usr/local/lib/python3.10/dist-packages (from notebook>=4.0->ipythonblocks) (5.7.2)\n",
            "Requirement already satisfied: jupyter-client<8,>=5.3.4 in /usr/local/lib/python3.10/dist-packages (from notebook>=4.0->ipythonblocks) (6.1.12)\n",
            "Requirement already satisfied: ipython-genutils in /usr/local/lib/python3.10/dist-packages (from notebook>=4.0->ipythonblocks) (0.2.0)\n",
            "Requirement already satisfied: nbformat in /usr/local/lib/python3.10/dist-packages (from notebook>=4.0->ipythonblocks) (5.10.3)\n",
            "Requirement already satisfied: nbconvert>=5 in /usr/local/lib/python3.10/dist-packages (from notebook>=4.0->ipythonblocks) (6.5.4)\n",
            "Requirement already satisfied: nest-asyncio>=1.5 in /usr/local/lib/python3.10/dist-packages (from notebook>=4.0->ipythonblocks) (1.6.0)\n",
            "Requirement already satisfied: ipykernel in /usr/local/lib/python3.10/dist-packages (from notebook>=4.0->ipythonblocks) (5.5.6)\n",
            "Requirement already satisfied: Send2Trash>=1.8.0 in /usr/local/lib/python3.10/dist-packages (from notebook>=4.0->ipythonblocks) (1.8.2)\n",
            "Requirement already satisfied: terminado>=0.8.3 in /usr/local/lib/python3.10/dist-packages (from notebook>=4.0->ipythonblocks) (0.18.1)\n",
            "Requirement already satisfied: prometheus-client in /usr/local/lib/python3.10/dist-packages (from notebook>=4.0->ipythonblocks) (0.20.0)\n",
            "Requirement already satisfied: nbclassic>=0.4.7 in /usr/local/lib/python3.10/dist-packages (from notebook>=4.0->ipythonblocks) (1.0.0)\n",
            "Requirement already satisfied: charset-normalizer<4,>=2 in /usr/local/lib/python3.10/dist-packages (from requests>=1.0->ipythonblocks) (3.3.2)\n",
            "Requirement already satisfied: idna<4,>=2.5 in /usr/local/lib/python3.10/dist-packages (from requests>=1.0->ipythonblocks) (3.6)\n",
            "Requirement already satisfied: urllib3<3,>=1.21.1 in /usr/local/lib/python3.10/dist-packages (from requests>=1.0->ipythonblocks) (2.0.7)\n",
            "Requirement already satisfied: certifi>=2017.4.17 in /usr/local/lib/python3.10/dist-packages (from requests>=1.0->ipythonblocks) (2024.2.2)\n",
            "Requirement already satisfied: parso<0.9.0,>=0.8.3 in /usr/local/lib/python3.10/dist-packages (from jedi>=0.16->ipython>=4.0->ipythonblocks) (0.8.3)\n",
            "Requirement already satisfied: python-dateutil>=2.1 in /usr/local/lib/python3.10/dist-packages (from jupyter-client<8,>=5.3.4->notebook>=4.0->ipythonblocks) (2.8.2)\n",
            "Requirement already satisfied: platformdirs>=2.5 in /usr/local/lib/python3.10/dist-packages (from jupyter-core>=4.6.1->notebook>=4.0->ipythonblocks) (4.2.0)\n",
            "Requirement already satisfied: jupyter-server>=1.8 in /usr/local/lib/python3.10/dist-packages (from nbclassic>=0.4.7->notebook>=4.0->ipythonblocks) (1.24.0)\n",
            "Requirement already satisfied: notebook-shim>=0.2.3 in /usr/local/lib/python3.10/dist-packages (from nbclassic>=0.4.7->notebook>=4.0->ipythonblocks) (0.2.4)\n",
            "Requirement already satisfied: lxml in /usr/local/lib/python3.10/dist-packages (from nbconvert>=5->notebook>=4.0->ipythonblocks) (4.9.4)\n",
            "Requirement already satisfied: beautifulsoup4 in /usr/local/lib/python3.10/dist-packages (from nbconvert>=5->notebook>=4.0->ipythonblocks) (4.12.3)\n",
            "Requirement already satisfied: bleach in /usr/local/lib/python3.10/dist-packages (from nbconvert>=5->notebook>=4.0->ipythonblocks) (6.1.0)\n",
            "Requirement already satisfied: defusedxml in /usr/local/lib/python3.10/dist-packages (from nbconvert>=5->notebook>=4.0->ipythonblocks) (0.7.1)\n",
            "Requirement already satisfied: entrypoints>=0.2.2 in /usr/local/lib/python3.10/dist-packages (from nbconvert>=5->notebook>=4.0->ipythonblocks) (0.4)\n",
            "Requirement already satisfied: jupyterlab-pygments in /usr/local/lib/python3.10/dist-packages (from nbconvert>=5->notebook>=4.0->ipythonblocks) (0.3.0)\n",
            "Requirement already satisfied: MarkupSafe>=2.0 in /usr/local/lib/python3.10/dist-packages (from nbconvert>=5->notebook>=4.0->ipythonblocks) (2.1.5)\n",
            "Requirement already satisfied: mistune<2,>=0.8.1 in /usr/local/lib/python3.10/dist-packages (from nbconvert>=5->notebook>=4.0->ipythonblocks) (0.8.4)\n",
            "Requirement already satisfied: nbclient>=0.5.0 in /usr/local/lib/python3.10/dist-packages (from nbconvert>=5->notebook>=4.0->ipythonblocks) (0.10.0)\n",
            "Requirement already satisfied: packaging in /usr/local/lib/python3.10/dist-packages (from nbconvert>=5->notebook>=4.0->ipythonblocks) (24.0)\n",
            "Requirement already satisfied: pandocfilters>=1.4.1 in /usr/local/lib/python3.10/dist-packages (from nbconvert>=5->notebook>=4.0->ipythonblocks) (1.5.1)\n",
            "Requirement already satisfied: tinycss2 in /usr/local/lib/python3.10/dist-packages (from nbconvert>=5->notebook>=4.0->ipythonblocks) (1.2.1)\n",
            "Requirement already satisfied: fastjsonschema in /usr/local/lib/python3.10/dist-packages (from nbformat->notebook>=4.0->ipythonblocks) (2.19.1)\n",
            "Requirement already satisfied: jsonschema>=2.6 in /usr/local/lib/python3.10/dist-packages (from nbformat->notebook>=4.0->ipythonblocks) (4.19.2)\n",
            "Requirement already satisfied: ptyprocess>=0.5 in /usr/local/lib/python3.10/dist-packages (from pexpect>4.3->ipython>=4.0->ipythonblocks) (0.7.0)\n",
            "Requirement already satisfied: wcwidth in /usr/local/lib/python3.10/dist-packages (from prompt-toolkit!=3.0.0,!=3.0.1,<3.1.0,>=2.0.0->ipython>=4.0->ipythonblocks) (0.2.13)\n",
            "Requirement already satisfied: argon2-cffi-bindings in /usr/local/lib/python3.10/dist-packages (from argon2-cffi->notebook>=4.0->ipythonblocks) (21.2.0)\n",
            "Requirement already satisfied: attrs>=22.2.0 in /usr/local/lib/python3.10/dist-packages (from jsonschema>=2.6->nbformat->notebook>=4.0->ipythonblocks) (23.2.0)\n",
            "Requirement already satisfied: jsonschema-specifications>=2023.03.6 in /usr/local/lib/python3.10/dist-packages (from jsonschema>=2.6->nbformat->notebook>=4.0->ipythonblocks) (2023.12.1)\n",
            "Requirement already satisfied: referencing>=0.28.4 in /usr/local/lib/python3.10/dist-packages (from jsonschema>=2.6->nbformat->notebook>=4.0->ipythonblocks) (0.34.0)\n",
            "Requirement already satisfied: rpds-py>=0.7.1 in /usr/local/lib/python3.10/dist-packages (from jsonschema>=2.6->nbformat->notebook>=4.0->ipythonblocks) (0.18.0)\n",
            "Requirement already satisfied: anyio<4,>=3.1.0 in /usr/local/lib/python3.10/dist-packages (from jupyter-server>=1.8->nbclassic>=0.4.7->notebook>=4.0->ipythonblocks) (3.7.1)\n",
            "Requirement already satisfied: websocket-client in /usr/local/lib/python3.10/dist-packages (from jupyter-server>=1.8->nbclassic>=0.4.7->notebook>=4.0->ipythonblocks) (1.7.0)\n",
            "Requirement already satisfied: six>=1.5 in /usr/local/lib/python3.10/dist-packages (from python-dateutil>=2.1->jupyter-client<8,>=5.3.4->notebook>=4.0->ipythonblocks) (1.16.0)\n",
            "Requirement already satisfied: cffi>=1.0.1 in /usr/local/lib/python3.10/dist-packages (from argon2-cffi-bindings->argon2-cffi->notebook>=4.0->ipythonblocks) (1.16.0)\n",
            "Requirement already satisfied: soupsieve>1.2 in /usr/local/lib/python3.10/dist-packages (from beautifulsoup4->nbconvert>=5->notebook>=4.0->ipythonblocks) (2.5)\n",
            "Requirement already satisfied: webencodings in /usr/local/lib/python3.10/dist-packages (from bleach->nbconvert>=5->notebook>=4.0->ipythonblocks) (0.5.1)\n",
            "Requirement already satisfied: sniffio>=1.1 in /usr/local/lib/python3.10/dist-packages (from anyio<4,>=3.1.0->jupyter-server>=1.8->nbclassic>=0.4.7->notebook>=4.0->ipythonblocks) (1.3.1)\n",
            "Requirement already satisfied: exceptiongroup in /usr/local/lib/python3.10/dist-packages (from anyio<4,>=3.1.0->jupyter-server>=1.8->nbclassic>=0.4.7->notebook>=4.0->ipythonblocks) (1.2.0)\n",
            "Requirement already satisfied: pycparser in /usr/local/lib/python3.10/dist-packages (from cffi>=1.0.1->argon2-cffi-bindings->argon2-cffi->notebook>=4.0->ipythonblocks) (2.21)\n",
            "Installing collected packages: jedi, ipythonblocks\n",
            "Successfully installed ipythonblocks-1.9.1 jedi-0.19.1\n"
          ]
        }
      ]
    },
    {
      "cell_type": "code",
      "source": [
        "P = Symbol('P')\n",
        "Q = Symbol('Q')"
      ],
      "metadata": {
        "id": "YPwvSXOpXiFx"
      },
      "execution_count": null,
      "outputs": []
    },
    {
      "cell_type": "code",
      "source": [
        "not_P = ~(P)\n",
        "not_Q = ~(Q)\n",
        "P_and_Q = (P & Q)\n",
        "PorQ=(P|Q)\n",
        "pimpQ=(P|'==>'|Q)\n",
        "peqQ=(P|'<=>'|Q)\n"
      ],
      "metadata": {
        "id": "HV8JEtN9XxwP"
      },
      "execution_count": null,
      "outputs": []
    },
    {
      "cell_type": "code",
      "source": [
        "models = [{P: False, Q:False},\n",
        "          {P: False, Q:True},\n",
        "          {P: True, Q:False},\n",
        "          {P: True, Q:True}]"
      ],
      "metadata": {
        "id": "MF2rJeRPYJAc"
      },
      "execution_count": null,
      "outputs": []
    },
    {
      "cell_type": "code",
      "source": [
        "for model in models:\n",
        "  print(\"P & Q:\", pl_true(P_and_Q, model))"
      ],
      "metadata": {
        "colab": {
          "base_uri": "https://localhost:8080/"
        },
        "id": "b3QTOeCXY0uH",
        "outputId": "55fef6dd-4cdc-47ba-dab7-46b254ccbd2f"
      },
      "execution_count": null,
      "outputs": [
        {
          "output_type": "stream",
          "name": "stdout",
          "text": [
            "P & Q: False\n",
            "P & Q: False\n",
            "P & Q: False\n",
            "P & Q: True\n"
          ]
        }
      ]
    },
    {
      "cell_type": "code",
      "source": [
        "for model in models:\n",
        "  print(\"P & Q:\", pl_true(not_P, model))"
      ],
      "metadata": {
        "colab": {
          "base_uri": "https://localhost:8080/"
        },
        "id": "mKSivnGNcGRr",
        "outputId": "a900be47-05ae-43ba-f902-5c0d53615e6c"
      },
      "execution_count": null,
      "outputs": [
        {
          "output_type": "stream",
          "name": "stdout",
          "text": [
            "P & Q: True\n",
            "P & Q: True\n",
            "P & Q: False\n",
            "P & Q: False\n"
          ]
        }
      ]
    },
    {
      "cell_type": "code",
      "source": [
        "for model in models:\n",
        "  print(f'P==>Q :{pl_true(pimpQ, model)}')"
      ],
      "metadata": {
        "colab": {
          "base_uri": "https://localhost:8080/"
        },
        "id": "rupCQHINcTHq",
        "outputId": "2d76df6a-9b22-452c-d45e-5f6da80d9a6d"
      },
      "execution_count": null,
      "outputs": [
        {
          "output_type": "stream",
          "name": "stdout",
          "text": [
            "P==>Q :True\n",
            "P==>Q :True\n",
            "P==>Q :False\n",
            "P==>Q :True\n"
          ]
        }
      ]
    },
    {
      "cell_type": "code",
      "source": [
        "for model in models:\n",
        "  print(f'P<=>Q :{pl_true(peqQ, model)}')"
      ],
      "metadata": {
        "colab": {
          "base_uri": "https://localhost:8080/"
        },
        "id": "BLX-yXGoeTIV",
        "outputId": "f937a0ee-b5da-436a-adb5-d3a8cdd8a09f"
      },
      "execution_count": null,
      "outputs": [
        {
          "output_type": "stream",
          "name": "stdout",
          "text": [
            "P<=>Q :True\n",
            "P<=>Q :False\n",
            "P<=>Q :False\n",
            "P<=>Q :True\n"
          ]
        }
      ]
    },
    {
      "cell_type": "code",
      "source": [
        "for model in models:\n",
        "  print(f'P|Q :{pl_true(PorQ, model)}')"
      ],
      "metadata": {
        "colab": {
          "base_uri": "https://localhost:8080/"
        },
        "id": "1xsM1a7oe1pW",
        "outputId": "638a6ca2-d51e-4340-b546-a71953e4ab7d"
      },
      "execution_count": null,
      "outputs": [
        {
          "output_type": "stream",
          "name": "stdout",
          "text": [
            "P|Q :False\n",
            "P|Q :True\n",
            "P|Q :True\n",
            "P|Q :True\n"
          ]
        }
      ]
    },
    {
      "cell_type": "markdown",
      "source": [
        "**Question 2**"
      ],
      "metadata": {
        "id": "CL1g5CQKfMgA"
      }
    },
    {
      "cell_type": "markdown",
      "source": [
        "~ P\n",
        "\n",
        "~ Q\n",
        "\n",
        "P V Q"
      ],
      "metadata": {
        "id": "lJ2Z865tfgO_"
      }
    },
    {
      "cell_type": "markdown",
      "source": [
        "**Question 3**"
      ],
      "metadata": {
        "id": "EW3M44L6hG6Y"
      }
    },
    {
      "cell_type": "code",
      "source": [
        "from kanren import var, eq, run\n",
        "var1 = var()\n",
        "var2 = var()\n",
        "# It asks for `1` number, `x`, such that `x == 5`\n",
        "print(\"The final value of var1 is: \", run(1, var1, eq(var1, var2), eq(var2, 5)))"
      ],
      "metadata": {
        "id": "97Nrm3WlhJz3",
        "outputId": "939090af-c245-40e6-f08d-efe43e610fc8",
        "colab": {
          "base_uri": "https://localhost:8080/"
        }
      },
      "execution_count": null,
      "outputs": [
        {
          "output_type": "stream",
          "name": "stdout",
          "text": [
            "The final value of var1 is:  (5,)\n"
          ]
        }
      ]
    },
    {
      "cell_type": "code",
      "source": [
        "from kanren import Relation, facts, run, var\n",
        "\n",
        "var1 = var()\n",
        "var2 = var()\n",
        "parent = Relation()\n",
        "\n",
        "facts(parent, (\"Umer\", \"Usman\"), (\"Umer\", \"Ali\"), (\"Suleman\", \"Umer\"), (\"Noman\", \"Suleman\"))\n",
        "\n",
        "print(\"The father of Usman is:\", run(1, var1, parent(var1, \"Usman\")))\n",
        "print(\"The child of Umer is:\", run(1, var1, parent(var1, \"Umer\")))\n",
        "\n",
        "father_of_usman = run(1, var1, parent(var1, \"Usman\"))[0]\n",
        "father_of_umer = run(1, var1, parent(var1, \"Umer\"))[0]\n",
        "\n",
        "grandfather_of_umer = run(1, var1, parent(var1, father_of_umer))[0]\n",
        "grandfather_of_usman = run(1, var1, parent(var1, father_of_usman))[0]\n",
        "\n",
        "print(\"The grandfather of Umer is:\", grandfather_of_umer)\n",
        "print(\"The grandfather of Usman is:\", grandfather_of_usman)"
      ],
      "metadata": {
        "colab": {
          "base_uri": "https://localhost:8080/"
        },
        "id": "TG_ecUwwx7c9",
        "outputId": "9e71a010-a915-4388-d878-c351d073a73b"
      },
      "execution_count": 1,
      "outputs": [
        {
          "output_type": "stream",
          "name": "stdout",
          "text": [
            "The father of Usman is: ('Umer',)\n",
            "The child of Umer is: ('Suleman',)\n",
            "The grandfather of Umer is: Noman\n",
            "The grandfather of Usman is: Suleman\n"
          ]
        }
      ]
    },
    {
      "cell_type": "markdown",
      "source": [],
      "metadata": {
        "id": "0wOVrMvnx-LB"
      }
    },
    {
      "cell_type": "markdown",
      "source": [
        "**Question 4**"
      ],
      "metadata": {
        "id": "Dlf2qMJ1yEy2"
      }
    },
    {
      "cell_type": "code",
      "source": [
        "from logic import *"
      ],
      "metadata": {
        "id": "Z08hnDMMygOl"
      },
      "execution_count": null,
      "outputs": []
    },
    {
      "cell_type": "code",
      "source": [
        "class WumpusWorldKB:\n",
        "    def __init__(self, size):\n",
        "        self.size = size\n",
        "self.pits = set()\n",
        "self.monsters = set()\n",
        "self.breeze = set()\n",
        "self.stench = set()\n"
      ],
      "metadata": {
        "id": "3D1PBnlHygi7"
      },
      "execution_count": null,
      "outputs": []
    },
    {
      "cell_type": "code",
      "source": [
        "def add_pit(self, location):\n",
        "    self.pits.add(location)\n",
        "def add_monster(self, location):\n",
        "    self.monsters.add(location)\n",
        "def add_breeze(self, location):\n",
        "    self.breeze.add(location)\n",
        "def add_stench(self, location):\n",
        "    self.stench.add(location)\n",
        "def is_pit(self, location):\n",
        "    return location in self.pits\n",
        "def is_monster(self, location):\n",
        "    return location in self.monsters\n",
        "def is_breeze(self, location):\n",
        "    return location in self.breeze\n",
        "def is_stench(self, location):\n",
        "    return location in self.stench\n",
        "def infer(self, statement):\n",
        "    if isinstance(statement, Expr):\n",
        "        if statement.op == 'P':\n",
        "            return self.is_pit((statement.args[0], statement.args[1]))\n",
        "        elif statement.op == 'M':\n",
        "            return self.is_monster((statement.args[0], statement.args[1]))\n",
        "        elif statement.op == 'B':\n",
        "            return self.is_breeze((statement.args[0], statement.args[1]))\n",
        "        elif statement.op == 'S':\n",
        "            return self.is_stench((statement.args[0], statement.args[1]))\n",
        "        return None\n",
        "    if __name__ == \"__main__\":\n",
        "        size = 4\n",
        "kb = WumpusWorldKB(size)\n",
        "kb.add_breeze((1, 2))\n",
        "kb.add_pit((1, 3))\n",
        "kb.add_breeze((1, 4))\n",
        "kb.add_stench((2, 1))\n",
        "kb.add_monster((3, 1))\n",
        "kb.add_breeze((3, 2))\n",
        "kb.add_stench((3, 2))\n",
        "kb.add_pit((3, 3))\n",
        "kb.add_breeze((3, 4))\n",
        "kb.add_stench((4, 1))\n",
        "kb.add_pit((4, 4))"
      ],
      "metadata": {
        "id": "RJ4NwBYgyp7A"
      },
      "execution_count": null,
      "outputs": []
    },
    {
      "cell_type": "code",
      "source": [
        "query = Expr('M', 3, 1) # MONSTER IN 3 ROW and 1 COLUMN\n",
        "result = kb.infer(query)\n",
        "if result is True:\n",
        "    print(\"The statement is definitely true.\")\n",
        "elif result is False:\n",
        "    print(\"The statement is definitely false.\")\n",
        "else:\n",
        "    print(\"The truth value of the statement is unknown.\")\n"
      ],
      "metadata": {
        "id": "RaAxUYTqyvIz"
      },
      "execution_count": null,
      "outputs": []
    }
  ]
}