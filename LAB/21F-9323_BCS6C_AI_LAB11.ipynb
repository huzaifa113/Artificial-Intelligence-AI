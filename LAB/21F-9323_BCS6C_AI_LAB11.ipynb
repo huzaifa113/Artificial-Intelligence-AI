{
  "nbformat": 4,
  "nbformat_minor": 0,
  "metadata": {
    "colab": {
      "provenance": []
    },
    "kernelspec": {
      "name": "python3",
      "display_name": "Python 3"
    },
    "language_info": {
      "name": "python"
    }
  },
  "cells": [
    {
      "cell_type": "code",
      "source": [
        "from logic import FolKB, expr"
      ],
      "metadata": {
        "id": "B8Q2ezufWPyS"
      },
      "execution_count": 3,
      "outputs": []
    },
    {
      "cell_type": "code",
      "source": [
        "kb = FolKB()\n"
      ],
      "metadata": {
        "id": "-tBjrL5MXueI"
      },
      "execution_count": 6,
      "outputs": []
    },
    {
      "cell_type": "code",
      "source": [
        "# Tell the knowledge base that John is a king\n",
        "kb.tell(expr('King(Richard)'))\n",
        "kb.tell(expr('PassedExam(Richard)'))\n",
        "kb.tell(expr('HasGPA(John)'))\n",
        "kb.tell(expr('Recommendation(John)'))\n",
        "kb.tell(expr('Foreign(Richard)'))\n",
        "kb.tell(expr('PassedEnglish(Richard)'))\n"
      ],
      "metadata": {
        "id": "efwuQyJrX6wu"
      },
      "execution_count": 7,
      "outputs": []
    },
    {
      "cell_type": "code",
      "source": [
        "# Tell the knowledge base that Richard is a person\n",
        "kb.tell(expr('Eligible(Person)'))"
      ],
      "metadata": {
        "id": "mCcf9A2SX87f"
      },
      "execution_count": 8,
      "outputs": []
    },
    {
      "cell_type": "code",
      "source": [
        "# Tell the knowledge base that all kings are persons\n",
        "kb.tell(expr('PassedExam(x) '+ '& ' + 'HasGPA(x)' + '==> ' + ' Eligible(x)'))\n",
        "kb.tell(expr('Or(Not(Or(HasGPA(x), Recommendation(x))),Eligible(x))'))\n",
        "kb.tell(expr('Foreign(x) '+ '& ' + 'PassedEnglish(x)' + '==> ' + ' Eligible(x)'))"
      ],
      "metadata": {
        "id": "h9EoVJwgX_RW"
      },
      "execution_count": 9,
      "outputs": []
    },
    {
      "cell_type": "code",
      "source": [
        "# Ask the knowledge base to confirm if John is a king\n",
        "john_is_king = kb.ask(expr('Eligible(John)'))\n",
        "print(\"Is John is Eligible?\", john_is_king is not False)"
      ],
      "metadata": {
        "colab": {
          "base_uri": "https://localhost:8080/"
        },
        "id": "L4ntzqWpYBdm",
        "outputId": "a9aa00f0-26f7-485a-eefb-4bf928e536ff"
      },
      "execution_count": 10,
      "outputs": [
        {
          "output_type": "stream",
          "name": "stdout",
          "text": [
            "Is John is Eligible? False\n"
          ]
        }
      ]
    }
  ]
}